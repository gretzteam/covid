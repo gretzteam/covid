{
 "nbformat": 4,
 "nbformat_minor": 2,
 "metadata": {
  "language_info": {
   "name": "python",
   "codemirror_mode": {
    "name": "ipython",
    "version": 3
   }
  },
  "orig_nbformat": 2,
  "file_extension": ".py",
  "mimetype": "text/x-python",
  "name": "python",
  "npconvert_exporter": "python",
  "pygments_lexer": "ipython3",
  "version": 3
 },
 "cells": [
  {
   "cell_type": "code",
   "execution_count": null,
   "metadata": {},
   "outputs": [],
   "source": [
    "import pandas as pd\n",
    "import plotly.express as px\n",
    "from IPython import embed\n",
    "pd.set_option('use_inf_as_na', True)"
   ]
  },
  {
   "cell_type": "code",
   "execution_count": null,
   "metadata": {},
   "outputs": [],
   "source": [
    "def loadDataUS(baseURL, type):\n",
    "\n",
    "  if type=='cases':\n",
    "    dropping = ['Lat', 'Long_', 'Combined_Key', 'UID',\t'iso2',\t'iso3',\t'code3', 'FIPS', 'Admin2', 'Country_Region']\n",
    "    filename = 'time_series_covid19_confirmed_US.csv'\n",
    "    columnName = 'Confirmed'\n",
    "  else:\n",
    "    dropping = ['Lat', 'Long_', 'Combined_Key', 'UID',\t'iso2',\t'iso3',\t'code3', 'FIPS', 'Admin2', 'Country_Region', 'Population']\n",
    "    filename = 'time_series_covid19_deaths_US.csv'    \n",
    "    columnName = 'Deaths'\n",
    "\n",
    "  data = pd.read_csv(baseURL+filename) \\\n",
    "    .drop(dropping, axis=1) \n",
    "  data = data.groupby(['Province_State']).sum().reset_index()\n",
    "  data = data.melt(id_vars=['Province_State'], var_name='date', value_name=columnName)\n",
    "  data = data.astype({'date':'datetime64[ns]', columnName:'Int64'}, errors='ignore')\n",
    "  data['Province_State'].fillna('<all>', inplace=True)\n",
    "  data[columnName].fillna(0, inplace=True)\n",
    "  return data\n",
    "\n",
    "def meltit(df):\n",
    "  df.fillna(0, inplace=True)\n",
    "  df = df.reset_index()\n",
    "  df = df.melt(id_vars=['date'], value_vars = states, var_name=['Province_State'], value_name='Confirmed')\n",
    "  return df\n"
   ]
  },
  {
   "cell_type": "code",
   "execution_count": null,
   "metadata": {},
   "outputs": [],
   "source": [
    "baseURL = \"./COVID-19/csse_covid_19_data/csse_covid_19_time_series/\"\n",
    "df = loadDataUS(baseURL, 'cases')\n",
    "df = df.pivot_table(values='Confirmed', index='date', columns='Province_State')\n",
    "states = list(df.keys()[1:])\n",
    "\n",
    "dfraw = meltit(df)\n",
    "\n",
    "dfmean = df.diff().rolling(window=5,center=False).mean()\n",
    "dfmean = meltit(dfmean)\n",
    "fig = px.line(dfmean, x=\"date\", y=\"Confirmed\", color=\"Province_State\", log_y=False)\n",
    "fig.show()\n",
    "\n",
    "dfgrowth = df.pct_change()\n",
    "dfgrowth = meltit(dfgrowth)\n",
    "fig = px.line(dfgrowth, x=\"date\", y=\"Confirmed\", color=\"Province_State\", log_y=False)\n",
    "fig.show()\n",
    "\n",
    "dfraw['mean_last_5_days'] = dfmean.Confirmed\n",
    "fig = px.line(dfraw, x=\"Confirmed\", y=\"mean_last_5_days\", color=\"Province_State\", log_x=True, log_y=True, labels=dict(Confirmed='Total Confirmed Cases', mean_last_5_days='Mean Daily New Cases from Last 5 Days'))\n",
    "fig.show()\n",
    "fig.write_html('states.html')\n",
    "\n",
    "df.to_csv('confirmed_us.csv')\n",
    "fig = px.line(x=dfmean.Confirmed, y=dfraw.Confirmed, log_y=False)\n",
    "\n"
   ]
  }
 ]
}